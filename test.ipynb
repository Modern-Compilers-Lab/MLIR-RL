{
 "cells": [
  {
   "cell_type": "code",
   "execution_count": 1,
   "metadata": {},
   "outputs": [],
   "source": [
    "from utils.observation_utils import function_wrapper, lower_linalg_to_loops\n",
    "from utils.transform_utils import evaluate_code_with_timeout\n",
    "from random import randint, choice, shuffle\n",
    "from tqdm import tqdm\n",
    "import json, re, multiprocessing, os\n",
    "from copy import copy\n",
    "\n",
    "from data_generation import get_nested_loops_data"
   ]
  },
  {
   "cell_type": "code",
   "execution_count": 2,
   "metadata": {},
   "outputs": [],
   "source": [
    "code = \"\"\"\n",
    "#map = affine_map<(d0, d1, d2) -> (d0, d1, d2)>\n",
    "#map1 = affine_map<(d0) -> (d0 floordiv 49)>\n",
    "#map2 = affine_map<(d0) -> (d0 mod 49)>\n",
    "#map3 = affine_map<(d0) -> ((d0 mod 49) floordiv 7)>\n",
    "#map4 = affine_map<(d0) -> (d0 mod 7)>\n",
    "#map5 = affine_map<(d0) -> (d0 floordiv 112)>\n",
    "#map6 = affine_map<(d0) -> (d0 mod 112)>\n",
    "#map7 = affine_map<(d0, d1) -> ((d0 floordiv 112) * 2 + (d1 mod 49) floordiv 7)>\n",
    "#map8 = affine_map<(d0, d1) -> (d0 * 2 + d1 - (d0 floordiv 112) * 224 - (d1 floordiv 7) * 7)>\n",
    "#map9 = affine_map<(d0, d1, d2, d3) -> (d1, d3)>\n",
    "#map10 = affine_map<(d0, d1, d2, d3) -> (d0, d3, d2)>\n",
    "#map11 = affine_map<(d0, d1, d2, d3) -> (d0, d1, d2)>\n",
    "  module attributes {torch.debug_module_name = \"Net\"} {\n",
    "    func.func private @nanoTime() -> i64 attributes {llvm.emit_c_interface}\n",
    "    func.func private @printFlops(f64)\n",
    "    func.func private @printI64(i64)\n",
    "    func.func private @printNewline()\n",
    "    func.func private @printMemrefF32(tensor<*xf32>)\n",
    "    func.func @matmul() -> tensor<32x64x112x112xf32> {\n",
    "      %cst = arith.constant 2.000000e+00 : f32\n",
    "      %cst_0 = arith.constant 0.000000e+00 : f32\n",
    "      %0 = bufferization.alloc_tensor() : tensor<32x3x230x230xf32>\n",
    "      %1 = linalg.fill ins(%cst : f32) outs(%0 : tensor<32x3x230x230xf32>) -> tensor<32x3x230x230xf32>\n",
    "      %2 = bufferization.alloc_tensor() : tensor<64x3x7x7xf32>\n",
    "      %3 = linalg.fill ins(%cst : f32) outs(%2 : tensor<64x3x7x7xf32>) -> tensor<64x3x7x7xf32>\n",
    "      %4 = bufferization.alloc_tensor() : tensor<32x64x112x112xf32>\n",
    "      %5 = linalg.fill ins(%cst : f32) outs(%4 : tensor<32x64x112x112xf32>) -> tensor<32x64x112x112xf32>\n",
    "      %6 = call @nanoTime() : () -> i64\n",
    "      %collapsed = tensor.collapse_shape %3 [[0], [1, 2, 3]] : tensor<64x3x7x7xf32> into tensor<64x147xf32>\n",
    "      %collapsed_1 = tensor.collapse_shape %5 [[0], [1], [2, 3]] : tensor<32x64x112x112xf32> into tensor<32x64x12544xf32>\n",
    "      %7 = tensor.empty() : tensor<32x147x12544xf32>\n",
    "      %8 = linalg.generic {indexing_maps = [#map], iterator_types = [\"parallel\", \"parallel\", \"parallel\"]} outs(%7 : tensor<32x147x12544xf32>) attrs =  {tmp} {\n",
    "      ^bb0(%out: f32):\n",
    "        %13 = linalg.index 0 : index\n",
    "        %14 = linalg.index 1 : index\n",
    "        %15 = linalg.index 2 : index\n",
    "        %c3 = arith.constant 3 : index\n",
    "        %c7 = arith.constant 7 : index\n",
    "        %c7_2 = arith.constant 7 : index\n",
    "        %c49 = arith.constant 49 : index\n",
    "        %16 = affine.apply #map1(%14)\n",
    "        %17 = affine.apply #map2(%14)\n",
    "        %18 = affine.apply #map3(%14)\n",
    "        %19 = affine.apply #map4(%14)\n",
    "        %c112 = arith.constant 112 : index\n",
    "        %c112_3 = arith.constant 112 : index\n",
    "        %20 = affine.apply #map5(%15)\n",
    "        %21 = affine.apply #map6(%15)\n",
    "        %22 = affine.apply #map7(%15, %14)\n",
    "        %23 = affine.apply #map8(%15, %14)\n",
    "        %extracted = tensor.extract %1[%13, %16, %22, %23] : tensor<32x3x230x230xf32>\n",
    "        linalg.yield %extracted : f32\n",
    "      } -> tensor<32x147x12544xf32>\n",
    "      %9 = linalg.generic {indexing_maps = [#map9, #map10, #map11], iterator_types = [\"parallel\", \"parallel\", \"parallel\", \"reduction\"]} ins(%collapsed, %8 : tensor<64x147xf32>, tensor<32x147x12544xf32>) outs(%collapsed_1 : tensor<32x64x12544xf32>) attrs =  {tag = \"operation_1\"} {\n",
    "      ^bb0(%in: f32, %in_2: f32, %out: f32):\n",
    "        %13 = arith.mulf %in, %in_2 : f32\n",
    "        %14 = arith.addf %13, %out : f32\n",
    "        linalg.yield %14 : f32\n",
    "      } -> tensor<32x64x12544xf32>\n",
    "      %expanded = tensor.expand_shape %9 [[0], [1], [2, 3]] : tensor<32x64x12544xf32> into tensor<32x64x112x112xf32>\n",
    "      %10 = call @nanoTime() : () -> i64\n",
    "      %11 = arith.subi %10, %6 : i64\n",
    "      %12 = arith.uitofp %11 : i64 to f64\n",
    "      call @printI64(%11) : (i64) -> ()\n",
    "      call @printNewline() : () -> ()\n",
    "      return %expanded : tensor<32x64x112x112xf32>\n",
    "    }\n",
    "    func.func @main() {\n",
    "      %c1 = arith.constant 1 : index\n",
    "      %c0 = arith.constant 0 : index\n",
    "      %c2 = arith.constant 2 : index\n",
    "      scf.for %arg0 = %c0 to %c2 step %c1 {\n",
    "        %0 = func.call @matmul() : () -> tensor<32x64x112x112xf32>\n",
    "      }\n",
    "      return\n",
    "    }\n",
    "  }\n",
    "\"\"\""
   ]
  },
  {
   "cell_type": "code",
   "execution_count": 3,
   "metadata": {},
   "outputs": [],
   "source": [
    "loops = lower_linalg_to_loops(code)\n",
    "loops = get_nested_loops_data(loops)"
   ]
  },
  {
   "cell_type": "code",
   "execution_count": 4,
   "metadata": {},
   "outputs": [
    {
     "name": "stdout",
     "output_type": "stream",
     "text": [
      "{'nested_loops': [('%arg0', 0, 64, 1), ('%arg1', 0, 147, 1), ('%arg0', 0, 32, 1), ('%arg1', 0, 64, 1), ('%arg2', 0, 12544, 1), ('%arg0', 0, 32, 1), ('%arg1', 0, 64, 1), ('%arg2', 0, 12544, 1), ('%arg3', 0, 147, 1)], 'op_count': {'+': 1, '-': 0, '*': 1, '/': 0, 'exp': 0}, 'load_data': [['%arg1', '%arg3'], ['%arg0', '%arg1', '%arg2']], 'store_data': []}\n"
     ]
    },
    {
     "data": {
      "text/plain": [
       "{'nested_loops': [('%arg0', 0, 64, 1),\n",
       "  ('%arg1', 0, 147, 1),\n",
       "  ('%arg0', 0, 32, 1),\n",
       "  ('%arg1', 0, 64, 1),\n",
       "  ('%arg2', 0, 12544, 1),\n",
       "  ('%arg0', 0, 32, 1),\n",
       "  ('%arg1', 0, 64, 1),\n",
       "  ('%arg2', 0, 12544, 1),\n",
       "  ('%arg3', 0, 147, 1)],\n",
       " 'op_count': {'+': 1, '-': 0, '*': 1, '/': 0, 'exp': 0},\n",
       " 'load_data': [['%arg1', '%arg3'], ['%arg0', '%arg1', '%arg2']],\n",
       " 'store_data': []}"
      ]
     },
     "execution_count": 4,
     "metadata": {},
     "output_type": "execute_result"
    }
   ],
   "source": [
    "print(loops)\n",
    "loops"
   ]
  }
 ],
 "metadata": {
  "kernelspec": {
   "display_name": "main_env_5",
   "language": "python",
   "name": "python3"
  },
  "language_info": {
   "codemirror_mode": {
    "name": "ipython",
    "version": 3
   },
   "file_extension": ".py",
   "mimetype": "text/x-python",
   "name": "python",
   "nbconvert_exporter": "python",
   "pygments_lexer": "ipython3",
   "version": "3.9.18"
  }
 },
 "nbformat": 4,
 "nbformat_minor": 2
}
